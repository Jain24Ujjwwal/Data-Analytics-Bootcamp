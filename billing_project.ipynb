{
 "cells": [
  {
   "cell_type": "code",
   "execution_count": 1,
   "id": "66c2acb6-145b-434f-98d3-079138ad5a42",
   "metadata": {},
   "outputs": [
    {
     "name": "stdout",
     "output_type": "stream",
     "text": [
      "Database & tables created!\n"
     ]
    }
   ],
   "source": [
    "import sqlite3\n",
    "conn = sqlite3.connect(\"billing_system.db\")\n",
    "cur = conn.cursor()\n",
    "cur.execute('''CREATE TABLE IF NOT EXISTS products (\n",
    "    id INTEGER PRIMARY KEY AUTOINCREMENT,\n",
    "    name TEXT NOT NULL,\n",
    "    price REAL NOT NULL\n",
    ")''')\n",
    "cur.execute('''CREATE TABLE IF NOT EXISTS bills (\n",
    "    id INTEGER PRIMARY KEY AUTOINCREMENT,\n",
    "    product_name TEXT NOT NULL,\n",
    "    quantity INTEGER NOT NULL,\n",
    "    price REAL NOT NULL,\n",
    "    total REAL NOT NULL\n",
    ")''')\n",
    "conn.commit()\n",
    "conn.close()\n",
    "print(\"Database & tables created!\")"
   ]
  },
  {
   "cell_type": "code",
   "execution_count": 2,
   "id": "cfc46952-0350-4d99-8a4a-2306c9d8eb20",
   "metadata": {},
   "outputs": [
    {
     "name": "stdout",
     "output_type": "stream",
     "text": [
      "Product 'Pen' added!\n",
      "Product 'Notebook' added!\n"
     ]
    }
   ],
   "source": [
    "def add_product(name, price):\n",
    "    conn = sqlite3.connect(\"billing_system.db\")\n",
    "    cur = conn.cursor()\n",
    "    cur.execute(\"INSERT INTO products (name, price) VALUES (?, ?)\", (name, price))\n",
    "    conn.commit()\n",
    "    conn.close()\n",
    "    print(f\"Product '{name}' added!\")\n",
    "add_product(\"Pen\", 10)\n",
    "add_product(\"Notebook\", 50)"
   ]
  },
  {
   "cell_type": "code",
   "execution_count": 6,
   "id": "829f7cb5-5c50-49db-aa22-498b64629fee",
   "metadata": {},
   "outputs": [
    {
     "name": "stdout",
     "output_type": "stream",
     "text": [
      "\n",
      "Available Products:\n",
      "ID: 1 | Name: Pen | Price: ₹10.0\n",
      "ID: 2 | Name: Notebook | Price: ₹50.0\n"
     ]
    }
   ],
   "source": [
    "def show_products():\n",
    "    conn = sqlite3.connect(\"billing_system.db\")\n",
    "    cur = conn.cursor()\n",
    "    cur.execute(\"SELECT * FROM products\")\n",
    "    rows = cur.fetchall()\n",
    "    conn.close()\n",
    "    print(\"\\nAvailable Products:\")\n",
    "    for row in rows:\n",
    "        print(f\"ID: {row[0]} | Name: {row[1]} | Price: ₹{row[2]}\")\n",
    "show_products()"
   ]
  },
  {
   "cell_type": "code",
   "execution_count": 7,
   "id": "db024b12-be0c-45a0-bc3d-979680cb9f77",
   "metadata": {},
   "outputs": [],
   "source": [
    "def create_bill(product_id, quantity):\n",
    "    conn = sqlite3.connect(\"billing_system.db\")\n",
    "    cur = conn.cursor()\n",
    "\n",
    "    cur.execute(\"SELECT name, price FROM products WHERE id = ?\", (product_id,))\n",
    "    product = cur.fetchone()\n",
    "    \n",
    "    if product:\n",
    "        name, price = product\n",
    "        total = price * quantity\n",
    "        cur.execute(\"INSERT INTO bills (product_name, quantity, price, total) VALUES (?, ?, ?, ?)\",\n",
    "                    (name, quantity, price, total))\n",
    "        conn.commit()\n",
    "        print(f\"Added to bill: {name} x {quantity} = ₹{total}\")\n",
    "    else:\n",
    "        print(\"Product not found.\")\n",
    "    conn.close()"
   ]
  },
  {
   "cell_type": "code",
   "execution_count": 8,
   "id": "9f786259-607d-47f9-911e-e3f566cf4f3d",
   "metadata": {},
   "outputs": [
    {
     "name": "stdout",
     "output_type": "stream",
     "text": [
      "\n",
      "Available Products:\n",
      "ID: 1 | Name: Pen | Price: ₹10.0\n",
      "ID: 2 | Name: Notebook | Price: ₹50.0\n",
      "Added to bill: Pen x 2 = ₹20.0\n",
      "Added to bill: Notebook x 1 = ₹50.0\n",
      "\n",
      "--- Final Bill ---\n",
      "Pen x 2 = ₹20.0\n",
      "Notebook x 1 = ₹50.0\n",
      "\n",
      "TOTAL AMOUNT: ₹70.0\n"
     ]
    }
   ],
   "source": [
    "show_products()\n",
    "create_bill(1, 2)\n",
    "create_bill(2, 1)  \n",
    "show_bill()"
   ]
  },
  {
   "cell_type": "code",
   "execution_count": null,
   "id": "b9d50721-8858-47d8-bf5f-583ae61ea5f1",
   "metadata": {},
   "outputs": [],
   "source": []
  }
 ],
 "metadata": {
  "kernelspec": {
   "display_name": "Python [conda env:base] *",
   "language": "python",
   "name": "conda-base-py"
  },
  "language_info": {
   "codemirror_mode": {
    "name": "ipython",
    "version": 3
   },
   "file_extension": ".py",
   "mimetype": "text/x-python",
   "name": "python",
   "nbconvert_exporter": "python",
   "pygments_lexer": "ipython3",
   "version": "3.13.5"
  }
 },
 "nbformat": 4,
 "nbformat_minor": 5
}
